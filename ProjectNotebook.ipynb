{
 "cells": [
  {
   "cell_type": "markdown",
   "metadata": {},
   "source": [
    "# Project Description"
   ]
  },
  {
   "cell_type": "markdown",
   "metadata": {},
   "source": [
    "\n",
    "This project is an adaptation of the movie/book Harry Potter and the Sorcerer's Stone. This game mimics one of the final scenes in which there are many puzzles to get the Sorcerer's stone, which is located in a dungeon beneath the school Hogwarts, before the villain Lord Voldemort does.\n",
    "\n",
    "For my project specifically, I've substituted the different magical puzzles from the series with my own memory tasks, trivia, and a riddle. The trivia tasks are basic, but more modern, trivia questions that an average adult may know, but they require the player to come up with their own answers. The memory tasks provide a series of numbers in which the player has to memorize and input the numbers in the correct order.\n",
    "\n",
    "The completion of these tasks will unlock a spell or charm, and follows the storyline that is used in the series. With each correct answer, the player will advance closer to the Sorcerer's Stone.\n",
    "\n",
    "The game itself is all or nothing, so if at any time the player gets a question wrong, the player will lose the game and will have to restart. Additionally, I have added an \"END GAME\" feature so that the player may quit anytime they choose. I have also specified how an answer should be inputted, when needed, so that the player can get their answer marked properly. \n",
    "\n",
    "Once the player completes the final task, the game will finish indicating that they have secured the Sorcerer's Stone, defeated Voldemort, and saved Hogwarts. "
   ]
  },
  {
   "cell_type": "markdown",
   "metadata": {},
   "source": [
    "## Project Code\n",
    "\n",
    "If it makes sense for your project, you can have code and outputs here in the notebook as well."
   ]
  },
  {
   "cell_type": "code",
   "execution_count": null,
   "metadata": {},
   "outputs": [],
   "source": [
    "from my_module.functions import *\n"
   ]
  },
  {
   "cell_type": "code",
   "execution_count": null,
   "metadata": {},
   "outputs": [],
   "source": [
    "#Run this cell to play the game. \n",
    "quest()"
   ]
  },
  {
   "cell_type": "markdown",
   "metadata": {},
   "source": [
    "## Extra Credit (*optional*)\n",
    "\n",
    "1. I have had no experience with Python, but I have experience in coding with Javascript. \n",
    "2. I believe my project went above and beyond the requirements because I was able to use new imported functions and learned how to code them. I also added extra details that were not required of me."
   ]
  },
  {
   "cell_type": "code",
   "execution_count": null,
   "metadata": {},
   "outputs": [],
   "source": []
  }
 ],
 "metadata": {
  "kernelspec": {
   "display_name": "Python 3",
   "language": "python",
   "name": "python3"
  },
  "language_info": {
   "codemirror_mode": {
    "name": "ipython",
    "version": 3
   },
   "file_extension": ".py",
   "mimetype": "text/x-python",
   "name": "python",
   "nbconvert_exporter": "python",
   "pygments_lexer": "ipython3",
   "version": "3.8.6"
  }
 },
 "nbformat": 4,
 "nbformat_minor": 2
}
